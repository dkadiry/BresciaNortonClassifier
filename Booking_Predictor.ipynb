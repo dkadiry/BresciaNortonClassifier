{
  "nbformat": 4,
  "nbformat_minor": 0,
  "metadata": {
    "colab": {
      "provenance": [],
      "include_colab_link": true
    },
    "kernelspec": {
      "name": "python3",
      "display_name": "Python 3"
    },
    "language_info": {
      "name": "python"
    },
    "accelerator": "GPU",
    "gpuClass": "standard"
  },
  "cells": [
    {
      "cell_type": "markdown",
      "metadata": {
        "id": "view-in-github",
        "colab_type": "text"
      },
      "source": [
        "<a href=\"https://colab.research.google.com/github/dkadiry/BresciaNortonClassifier/blob/main/Booking_Predictor.ipynb\" target=\"_parent\"><img src=\"https://colab.research.google.com/assets/colab-badge.svg\" alt=\"Open In Colab\"/></a>"
      ]
    },
    {
      "cell_type": "code",
      "source": [
        "!pip install --upgrade scikit-learn"
      ],
      "metadata": {
        "colab": {
          "base_uri": "https://localhost:8080/"
        },
        "id": "qBTYL0luiSXL",
        "outputId": "01c9cbd5-f91d-4e7e-b3b5-8e8e4682ba6a"
      },
      "execution_count": null,
      "outputs": [
        {
          "output_type": "stream",
          "name": "stdout",
          "text": [
            "Looking in indexes: https://pypi.org/simple, https://us-python.pkg.dev/colab-wheels/public/simple/\n",
            "Requirement already satisfied: scikit-learn in /usr/local/lib/python3.9/dist-packages (1.2.2)\n",
            "Requirement already satisfied: scipy>=1.3.2 in /usr/local/lib/python3.9/dist-packages (from scikit-learn) (1.10.1)\n",
            "Requirement already satisfied: numpy>=1.17.3 in /usr/local/lib/python3.9/dist-packages (from scikit-learn) (1.22.4)\n",
            "Requirement already satisfied: threadpoolctl>=2.0.0 in /usr/local/lib/python3.9/dist-packages (from scikit-learn) (3.1.0)\n",
            "Requirement already satisfied: joblib>=1.1.1 in /usr/local/lib/python3.9/dist-packages (from scikit-learn) (1.2.0)\n"
          ]
        }
      ]
    },
    {
      "cell_type": "code",
      "source": [
        "!pip install scikeras"
      ],
      "metadata": {
        "colab": {
          "base_uri": "https://localhost:8080/"
        },
        "id": "xEpyLOugKrQD",
        "outputId": "9297b5a4-0637-4b34-b828-307e2156a1c0"
      },
      "execution_count": null,
      "outputs": [
        {
          "output_type": "stream",
          "name": "stdout",
          "text": [
            "Looking in indexes: https://pypi.org/simple, https://us-python.pkg.dev/colab-wheels/public/simple/\n",
            "Requirement already satisfied: scikeras in /usr/local/lib/python3.9/dist-packages (0.10.0)\n",
            "Requirement already satisfied: packaging>=0.21 in /usr/local/lib/python3.9/dist-packages (from scikeras) (23.0)\n",
            "Requirement already satisfied: scikit-learn>=1.0.0 in /usr/local/lib/python3.9/dist-packages (from scikeras) (1.2.2)\n",
            "Requirement already satisfied: numpy>=1.17.3 in /usr/local/lib/python3.9/dist-packages (from scikit-learn>=1.0.0->scikeras) (1.22.4)\n",
            "Requirement already satisfied: threadpoolctl>=2.0.0 in /usr/local/lib/python3.9/dist-packages (from scikit-learn>=1.0.0->scikeras) (3.1.0)\n",
            "Requirement already satisfied: scipy>=1.3.2 in /usr/local/lib/python3.9/dist-packages (from scikit-learn>=1.0.0->scikeras) (1.10.1)\n",
            "Requirement already satisfied: joblib>=1.1.1 in /usr/local/lib/python3.9/dist-packages (from scikit-learn>=1.0.0->scikeras) (1.2.0)\n"
          ]
        }
      ]
    },
    {
      "cell_type": "code",
      "source": [
        "from google.colab import drive\n",
        "drive.mount('/content/drive')"
      ],
      "metadata": {
        "colab": {
          "base_uri": "https://localhost:8080/"
        },
        "id": "HwwSt0V6PvAy",
        "outputId": "c870ad72-e951-464c-e5f5-42339959a56a"
      },
      "execution_count": null,
      "outputs": [
        {
          "output_type": "stream",
          "name": "stdout",
          "text": [
            "Drive already mounted at /content/drive; to attempt to forcibly remount, call drive.mount(\"/content/drive\", force_remount=True).\n"
          ]
        }
      ]
    },
    {
      "cell_type": "code",
      "execution_count": null,
      "metadata": {
        "id": "FnECiE9SJ8Bz"
      },
      "outputs": [],
      "source": [
        "import pandas as pd\n",
        "import numpy as np\n",
        "import seaborn as sns\n",
        "import sklearn as sk\n",
        "import tensorflow as tf\n",
        "import sklearn.linear_model as skl\n",
        "from sklearn import preprocessing\n",
        "from sklearn import metrics\n",
        "from sklearn.preprocessing import PolynomialFeatures\n",
        "from sklearn.preprocessing import StandardScaler \n",
        "from sklearn.model_selection import train_test_split, cross_val_score\n",
        "from sklearn.feature_selection import SelectFromModel\n",
        "from sklearn.feature_selection import SequentialFeatureSelector\n",
        "from sklearn.linear_model import LassoCV\n",
        "import matplotlib.pyplot as plt\n",
        "from IPython.display import display\n",
        "from sklearn import svm\n",
        "from sklearn.feature_selection import SelectKBest, chi2, f_classif, mutual_info_classif, mutual_info_regression\n",
        "from sklearn.model_selection import GridSearchCV\n",
        "from sklearn.ensemble import RandomForestClassifier\n",
        "from sklearn.pipeline import FeatureUnion\n",
        "import xgboost as xgb\n",
        "import time\n",
        "from sklearn.model_selection import RandomizedSearchCV\n",
        "from sklearn.metrics import classification_report, accuracy_score, f1_score, recall_score, precision_score, confusion_matrix\n",
        "from sklearn.neighbors import KNeighborsClassifier\n",
        "from scipy.stats import randint, uniform\n",
        "from tensorflow import keras\n",
        "from keras.models import Sequential\n",
        "from keras.layers import LSTM, Dense, Dropout, Flatten\n",
        "#from scikeras.wrappers import \n",
        "from keras.wrappers.scikit_learn import KerasClassifier\n",
        "\n",
        "\n",
        "import warnings \n",
        "warnings.filterwarnings('ignore')\n",
        "\n",
        "\n",
        "np.random.seed(42)\n"
      ]
    },
    {
      "cell_type": "code",
      "source": [
        "# Useful Functions\n",
        "# Function to convert labels to number\n",
        "def strtobin(x):\n",
        "    if x == 'Canceled':\n",
        "      x = 1\n",
        "    elif x == 'Not_Canceled':\n",
        "      x = 0\n",
        "    return x\n",
        "\n",
        "# Simple Preprocessing function\n",
        "def myPreProc(data):\n",
        "   #write function\n",
        "   procData = data\n",
        "\n",
        "   # Create a Full Date Column so we can order the rows by date - helps the RNN learn\n",
        "   procData = procData.rename(columns={'ArrivalYear': 'year', 'ArrivalMonth': 'month', 'ArrivalDate': 'day'})\n",
        "   cols=[\"year\",\"month\",\"day\"]\n",
        "   procData['Fulldate'] = procData[cols].apply(lambda x: '-'.join(x.values.astype(str)), axis=\"columns\")\n",
        "   procData['Fulldate']=pd.to_datetime(procData['Fulldate'], errors = 'coerce')\n",
        "\n",
        "   # Set invalid dates to NaT\n",
        "   procData.loc[procData['Fulldate'].isnull(), 'Fulldate'] = pd.NaT\n",
        "\n",
        "   #Remove any empty columns\n",
        "   procData = procData.dropna(axis=1, how='all')\n",
        "\n",
        "   #Drop rows with any missing data\n",
        "   procData = procData.dropna(axis=0)\n",
        "\n",
        "   # Encode categorical variables using one-hot encoding\n",
        "   procData = pd.get_dummies(procData, columns=['RoomType', 'MealPlan', 'MarketSegment'])\n",
        "\n",
        "   # Sort the data based on the Full Date column in ascending order\n",
        "   #procData = procData.sort_values('Fulldate', ascending=True)\n",
        "  \n",
        "   return procData\n",
        "\n"
      ],
      "metadata": {
        "id": "2Z0KqWYMUOSu"
      },
      "execution_count": null,
      "outputs": []
    },
    {
      "cell_type": "code",
      "source": [
        "#Load the dataset \n",
        "pathName = \"/content/drive/MyDrive/Hackathon/DataQuestDataset.csv\"\n",
        "myData = pd.read_csv(pathName, index_col=\"BookingID\")\n",
        "\n",
        "df_copy = myData.copy()"
      ],
      "metadata": {
        "id": "soscfwX9ico-"
      },
      "execution_count": null,
      "outputs": []
    },
    {
      "cell_type": "code",
      "source": [
        "#Preprocess Data\n",
        "df_copy = myPreProc(df_copy)\n",
        "df_copy['BookingStatus'] = df_copy['BookingStatus'].map(strtobin)"
      ],
      "metadata": {
        "id": "8B3GXg71ifTZ"
      },
      "execution_count": null,
      "outputs": []
    },
    {
      "cell_type": "code",
      "source": [
        "df_copy.info()"
      ],
      "metadata": {
        "colab": {
          "base_uri": "https://localhost:8080/"
        },
        "id": "IGnMCycXksth",
        "outputId": "7ad4f9f2-e300-42f8-e441-658ec60aac97"
      },
      "execution_count": null,
      "outputs": [
        {
          "output_type": "stream",
          "name": "stdout",
          "text": [
            "<class 'pandas.core.frame.DataFrame'>\n",
            "Int64Index: 28988 entries, 1 to 29020\n",
            "Data columns (total 32 columns):\n",
            " #   Column                       Non-Null Count  Dtype         \n",
            "---  ------                       --------------  -----         \n",
            " 0   LeadTime                     28988 non-null  int64         \n",
            " 1   year                         28988 non-null  int64         \n",
            " 2   month                        28988 non-null  int64         \n",
            " 3   day                          28988 non-null  int64         \n",
            " 4   NumWeekendNights             28988 non-null  int64         \n",
            " 5   NumWeekNights                28988 non-null  int64         \n",
            " 6   Parking                      28988 non-null  int64         \n",
            " 7   NumAdults                    28988 non-null  int64         \n",
            " 8   NumChildren                  28988 non-null  int64         \n",
            " 9   RepeatedGuest                28988 non-null  int64         \n",
            " 10  NumPrevCancellations         28988 non-null  int64         \n",
            " 11  NumPreviousNonCancelled      28988 non-null  int64         \n",
            " 12  AvgRoomPrice                 28988 non-null  float64       \n",
            " 13  SpecialRequests              28988 non-null  int64         \n",
            " 14  BookingStatus                28988 non-null  int64         \n",
            " 15  Fulldate                     28988 non-null  datetime64[ns]\n",
            " 16  RoomType_Room_Type 1         28988 non-null  uint8         \n",
            " 17  RoomType_Room_Type 2         28988 non-null  uint8         \n",
            " 18  RoomType_Room_Type 3         28988 non-null  uint8         \n",
            " 19  RoomType_Room_Type 4         28988 non-null  uint8         \n",
            " 20  RoomType_Room_Type 5         28988 non-null  uint8         \n",
            " 21  RoomType_Room_Type 6         28988 non-null  uint8         \n",
            " 22  RoomType_Room_Type 7         28988 non-null  uint8         \n",
            " 23  MealPlan_Meal Plan 1         28988 non-null  uint8         \n",
            " 24  MealPlan_Meal Plan 2         28988 non-null  uint8         \n",
            " 25  MealPlan_Meal Plan 3         28988 non-null  uint8         \n",
            " 26  MealPlan_Not Selected        28988 non-null  uint8         \n",
            " 27  MarketSegment_Aviation       28988 non-null  uint8         \n",
            " 28  MarketSegment_Complementary  28988 non-null  uint8         \n",
            " 29  MarketSegment_Corporate      28988 non-null  uint8         \n",
            " 30  MarketSegment_Offline        28988 non-null  uint8         \n",
            " 31  MarketSegment_Online         28988 non-null  uint8         \n",
            "dtypes: datetime64[ns](1), float64(1), int64(14), uint8(16)\n",
            "memory usage: 4.2 MB\n"
          ]
        }
      ]
    },
    {
      "cell_type": "code",
      "source": [
        "# Extract Target Variable and Features\n",
        "X = df_copy.drop(['Fulldate', 'BookingStatus'], axis=1)\n",
        "Y = df_copy['BookingStatus']\n",
        "print(X.info())\n",
        "\n",
        "#Split the data using train_test-split\n",
        "X_train, X_val, Y_train, Y_val = train_test_split(X,Y, test_size=0.30, random_state=42)\n",
        "\n",
        "# Normalize Xtrain data\n",
        "scaler = StandardScaler()\n",
        "X_train_norm = scaler.fit_transform(X_train)\n",
        "\n",
        "X_train_categorical = X_train.iloc[:, 14:30] #Collect all Categorical training data\n",
        "X_train_numerical = X_train.iloc[:, 0:14] # Collect all numerical training data"
      ],
      "metadata": {
        "id": "Ura_8-BS6k3M",
        "colab": {
          "base_uri": "https://localhost:8080/"
        },
        "outputId": "c983c038-137b-4e98-d35f-ada9e2cb09e7"
      },
      "execution_count": null,
      "outputs": [
        {
          "output_type": "stream",
          "name": "stdout",
          "text": [
            "<class 'pandas.core.frame.DataFrame'>\n",
            "Int64Index: 28988 entries, 1 to 29020\n",
            "Data columns (total 30 columns):\n",
            " #   Column                       Non-Null Count  Dtype  \n",
            "---  ------                       --------------  -----  \n",
            " 0   LeadTime                     28988 non-null  int64  \n",
            " 1   year                         28988 non-null  int64  \n",
            " 2   month                        28988 non-null  int64  \n",
            " 3   day                          28988 non-null  int64  \n",
            " 4   NumWeekendNights             28988 non-null  int64  \n",
            " 5   NumWeekNights                28988 non-null  int64  \n",
            " 6   Parking                      28988 non-null  int64  \n",
            " 7   NumAdults                    28988 non-null  int64  \n",
            " 8   NumChildren                  28988 non-null  int64  \n",
            " 9   RepeatedGuest                28988 non-null  int64  \n",
            " 10  NumPrevCancellations         28988 non-null  int64  \n",
            " 11  NumPreviousNonCancelled      28988 non-null  int64  \n",
            " 12  AvgRoomPrice                 28988 non-null  float64\n",
            " 13  SpecialRequests              28988 non-null  int64  \n",
            " 14  RoomType_Room_Type 1         28988 non-null  uint8  \n",
            " 15  RoomType_Room_Type 2         28988 non-null  uint8  \n",
            " 16  RoomType_Room_Type 3         28988 non-null  uint8  \n",
            " 17  RoomType_Room_Type 4         28988 non-null  uint8  \n",
            " 18  RoomType_Room_Type 5         28988 non-null  uint8  \n",
            " 19  RoomType_Room_Type 6         28988 non-null  uint8  \n",
            " 20  RoomType_Room_Type 7         28988 non-null  uint8  \n",
            " 21  MealPlan_Meal Plan 1         28988 non-null  uint8  \n",
            " 22  MealPlan_Meal Plan 2         28988 non-null  uint8  \n",
            " 23  MealPlan_Meal Plan 3         28988 non-null  uint8  \n",
            " 24  MealPlan_Not Selected        28988 non-null  uint8  \n",
            " 25  MarketSegment_Aviation       28988 non-null  uint8  \n",
            " 26  MarketSegment_Complementary  28988 non-null  uint8  \n",
            " 27  MarketSegment_Corporate      28988 non-null  uint8  \n",
            " 28  MarketSegment_Offline        28988 non-null  uint8  \n",
            " 29  MarketSegment_Online         28988 non-null  uint8  \n",
            "dtypes: float64(1), int64(13), uint8(16)\n",
            "memory usage: 3.8 MB\n",
            "None\n"
          ]
        }
      ]
    },
    {
      "cell_type": "code",
      "source": [
        "np.random.seed(42)\n",
        "# Use SelectKBest to select the top 10 features based on mutual information function classification (handles categorical data)\n",
        "selector_mfc = SelectKBest(score_func=mutual_info_classif, k=5)\n",
        "X_new = selector_mfc.fit_transform(X_train_categorical, Y_train)\n",
        "\n",
        "# Get the names of the selected features\n",
        "feature_names = X_train_categorical.columns[selector_mfc.get_support()]\n",
        "print(feature_names)\n",
        "\n",
        "# Create a DataFrame with feature names and scores\n",
        "feature_df_mfc = pd.DataFrame({'Feature': X_train_categorical.columns, 'Score': selector_mfc.scores_})\n",
        "\n",
        "# Sort the DataFrame by feature scores in descending order\n",
        "feature_df_mfc = feature_df_mfc.sort_values('Score', ascending=False)\n",
        "\n",
        "# Get the names of the selected features in the order of the sorted DataFrame\n",
        "mfc_selected_features = feature_df_mfc['Feature'][:5].tolist()\n",
        "print(feature_df_mfc)\n",
        "print(f\"The top 5 categorical features using Mutual Information function are:\\n {mfc_selected_features}\")"
      ],
      "metadata": {
        "colab": {
          "base_uri": "https://localhost:8080/"
        },
        "id": "EWdSDWF86nri",
        "outputId": "9961242e-65a5-447d-bc06-7ce6de374aab"
      },
      "execution_count": null,
      "outputs": [
        {
          "output_type": "stream",
          "name": "stdout",
          "text": [
            "Index(['RoomType_Room_Type 1', 'MealPlan_Meal Plan 1', 'MealPlan_Meal Plan 2',\n",
            "       'MarketSegment_Complementary', 'MarketSegment_Corporate'],\n",
            "      dtype='object')\n",
            "                        Feature     Score\n",
            "13      MarketSegment_Corporate  0.008039\n",
            "8          MealPlan_Meal Plan 2  0.007970\n",
            "7          MealPlan_Meal Plan 1  0.005248\n",
            "12  MarketSegment_Complementary  0.005116\n",
            "0          RoomType_Room_Type 1  0.004505\n",
            "15         MarketSegment_Online  0.004379\n",
            "10        MealPlan_Not Selected  0.004038\n",
            "14        MarketSegment_Offline  0.003459\n",
            "5          RoomType_Room_Type 6  0.003438\n",
            "9          MealPlan_Meal Plan 3  0.001153\n",
            "1          RoomType_Room_Type 2  0.000000\n",
            "2          RoomType_Room_Type 3  0.000000\n",
            "3          RoomType_Room_Type 4  0.000000\n",
            "4          RoomType_Room_Type 5  0.000000\n",
            "6          RoomType_Room_Type 7  0.000000\n",
            "11       MarketSegment_Aviation  0.000000\n",
            "The top 5 categorical features using Mutual Information function are:\n",
            " ['MarketSegment_Corporate', 'MealPlan_Meal Plan 2', 'MealPlan_Meal Plan 1', 'MarketSegment_Complementary', 'RoomType_Room_Type 1']\n"
          ]
        }
      ]
    },
    {
      "cell_type": "code",
      "source": [
        "# Use SelectKBest to select the top 5 features based on mutual information function regressor (Handles non categorical forms of data)\n",
        "np.random.seed(42)\n",
        "selector_mutual = SelectKBest(score_func=mutual_info_regression, k=5)\n",
        "X_mutual = selector_mutual.fit_transform(X_train_numerical, Y_train)\n",
        "\n",
        "# Create a DataFrame with feature names and scores\n",
        "feature_df_mfr = pd.DataFrame({'Feature': X_train_numerical.columns, 'Score': selector_mutual.scores_})\n",
        "\n",
        "# Sort the DataFrame by feature scores in descending order\n",
        "feature_df_mfr = feature_df_mfr.sort_values('Score', ascending=False)\n",
        "\n",
        "# Get the names of the selected features in the order of the sorted DataFrame\n",
        "mutual_selected_features = feature_df_mfr['Feature'][:5].tolist()\n",
        "\n",
        "print(feature_df_mfr)\n",
        "print(f\"The top features using Mutual Scoring function are:\\n {mutual_selected_features}\")"
      ],
      "metadata": {
        "colab": {
          "base_uri": "https://localhost:8080/"
        },
        "id": "BUS0dusjc2Vq",
        "outputId": "b85eaec9-6c43-4c4e-829b-f29ed5f4e2ed"
      },
      "execution_count": null,
      "outputs": [
        {
          "output_type": "stream",
          "name": "stdout",
          "text": [
            "                    Feature     Score\n",
            "0                  LeadTime  0.135769\n",
            "12             AvgRoomPrice  0.089087\n",
            "13          SpecialRequests  0.031001\n",
            "2                     month  0.020520\n",
            "6                   Parking  0.019852\n",
            "1                      year  0.017942\n",
            "9             RepeatedGuest  0.010373\n",
            "5             NumWeekNights  0.008240\n",
            "10     NumPrevCancellations  0.006534\n",
            "8               NumChildren  0.005395\n",
            "4          NumWeekendNights  0.004551\n",
            "11  NumPreviousNonCancelled  0.001647\n",
            "3                       day  0.000000\n",
            "7                 NumAdults  0.000000\n",
            "The top features using Mutual Scoring function are:\n",
            " ['LeadTime', 'AvgRoomPrice', 'SpecialRequests', 'month', 'Parking']\n"
          ]
        }
      ]
    },
    {
      "cell_type": "code",
      "source": [
        "# Concatenate the two dataframes\n",
        "feature_scores = pd.concat([feature_df_mfc, feature_df_mfr])\n",
        "\n",
        "# Sort the concatenated dataframe by scores in descending order\n",
        "feature_scores = feature_scores.sort_values('Score', ascending=False)\n",
        "\n",
        "# Get the names of the selected features in the order of the sorted DataFrame\n",
        "selected_features = feature_scores['Feature'][:18].tolist()\n",
        "\n",
        "print(feature_scores)\n",
        "\n",
        "print(f\"The top 10 features using both scoring functions are:\\n {selected_features}\")"
      ],
      "metadata": {
        "colab": {
          "base_uri": "https://localhost:8080/",
          "height": 1000
        },
        "id": "sHiyK8q4xUEo",
        "outputId": "0ee8193b-15c4-4fff-f85d-c4a642777f58"
      },
      "execution_count": null,
      "outputs": [
        {
          "output_type": "stream",
          "name": "stdout",
          "text": [
            "                        Feature     Score\n",
            "0                      LeadTime  0.135769\n",
            "12                 AvgRoomPrice  0.089087\n",
            "13              SpecialRequests  0.031001\n",
            "2                         month  0.020520\n",
            "6                       Parking  0.019852\n",
            "1                          year  0.017942\n",
            "9                 RepeatedGuest  0.010373\n",
            "5                 NumWeekNights  0.008240\n",
            "13      MarketSegment_Corporate  0.008039\n",
            "8          MealPlan_Meal Plan 2  0.007970\n",
            "10         NumPrevCancellations  0.006534\n",
            "8                   NumChildren  0.005395\n",
            "7          MealPlan_Meal Plan 1  0.005248\n",
            "12  MarketSegment_Complementary  0.005116\n",
            "4              NumWeekendNights  0.004551\n",
            "0          RoomType_Room_Type 1  0.004505\n",
            "15         MarketSegment_Online  0.004379\n",
            "10        MealPlan_Not Selected  0.004038\n",
            "14        MarketSegment_Offline  0.003459\n",
            "5          RoomType_Room_Type 6  0.003438\n",
            "11      NumPreviousNonCancelled  0.001647\n",
            "9          MealPlan_Meal Plan 3  0.001153\n",
            "3                           day  0.000000\n",
            "11       MarketSegment_Aviation  0.000000\n",
            "6          RoomType_Room_Type 7  0.000000\n",
            "4          RoomType_Room_Type 5  0.000000\n",
            "3          RoomType_Room_Type 4  0.000000\n",
            "2          RoomType_Room_Type 3  0.000000\n",
            "1          RoomType_Room_Type 2  0.000000\n",
            "7                     NumAdults  0.000000\n"
          ]
        },
        {
          "output_type": "display_data",
          "data": {
            "text/plain": [
              "                        Feature     Score\n",
              "0                      LeadTime  0.135769\n",
              "1                  AvgRoomPrice  0.089087\n",
              "2               SpecialRequests  0.031001\n",
              "3                         month  0.020520\n",
              "4                       Parking  0.019852\n",
              "5                          year  0.017942\n",
              "6                 RepeatedGuest  0.010373\n",
              "7                 NumWeekNights  0.008240\n",
              "8       MarketSegment_Corporate  0.008039\n",
              "9          MealPlan_Meal Plan 2  0.007970\n",
              "10         NumPrevCancellations  0.006534\n",
              "11                  NumChildren  0.005395\n",
              "12         MealPlan_Meal Plan 1  0.005248\n",
              "13  MarketSegment_Complementary  0.005116\n",
              "14             NumWeekendNights  0.004551\n",
              "15         RoomType_Room_Type 1  0.004505\n",
              "16         MarketSegment_Online  0.004379\n",
              "17        MealPlan_Not Selected  0.004038\n",
              "18        MarketSegment_Offline  0.003459\n",
              "19         RoomType_Room_Type 6  0.003438\n",
              "20      NumPreviousNonCancelled  0.001647\n",
              "21         MealPlan_Meal Plan 3  0.001153\n",
              "22                          day  0.000000\n",
              "23       MarketSegment_Aviation  0.000000\n",
              "24         RoomType_Room_Type 7  0.000000\n",
              "25         RoomType_Room_Type 5  0.000000\n",
              "26         RoomType_Room_Type 4  0.000000\n",
              "27         RoomType_Room_Type 3  0.000000\n",
              "28         RoomType_Room_Type 2  0.000000\n",
              "29                    NumAdults  0.000000"
            ],
            "text/html": [
              "\n",
              "  <div id=\"df-aeab9266-5864-4281-809e-13031b129a96\">\n",
              "    <div class=\"colab-df-container\">\n",
              "      <div>\n",
              "<style scoped>\n",
              "    .dataframe tbody tr th:only-of-type {\n",
              "        vertical-align: middle;\n",
              "    }\n",
              "\n",
              "    .dataframe tbody tr th {\n",
              "        vertical-align: top;\n",
              "    }\n",
              "\n",
              "    .dataframe thead th {\n",
              "        text-align: right;\n",
              "    }\n",
              "</style>\n",
              "<table border=\"1\" class=\"dataframe\">\n",
              "  <thead>\n",
              "    <tr style=\"text-align: right;\">\n",
              "      <th></th>\n",
              "      <th>Feature</th>\n",
              "      <th>Score</th>\n",
              "    </tr>\n",
              "  </thead>\n",
              "  <tbody>\n",
              "    <tr>\n",
              "      <th>0</th>\n",
              "      <td>LeadTime</td>\n",
              "      <td>0.135769</td>\n",
              "    </tr>\n",
              "    <tr>\n",
              "      <th>1</th>\n",
              "      <td>AvgRoomPrice</td>\n",
              "      <td>0.089087</td>\n",
              "    </tr>\n",
              "    <tr>\n",
              "      <th>2</th>\n",
              "      <td>SpecialRequests</td>\n",
              "      <td>0.031001</td>\n",
              "    </tr>\n",
              "    <tr>\n",
              "      <th>3</th>\n",
              "      <td>month</td>\n",
              "      <td>0.020520</td>\n",
              "    </tr>\n",
              "    <tr>\n",
              "      <th>4</th>\n",
              "      <td>Parking</td>\n",
              "      <td>0.019852</td>\n",
              "    </tr>\n",
              "    <tr>\n",
              "      <th>5</th>\n",
              "      <td>year</td>\n",
              "      <td>0.017942</td>\n",
              "    </tr>\n",
              "    <tr>\n",
              "      <th>6</th>\n",
              "      <td>RepeatedGuest</td>\n",
              "      <td>0.010373</td>\n",
              "    </tr>\n",
              "    <tr>\n",
              "      <th>7</th>\n",
              "      <td>NumWeekNights</td>\n",
              "      <td>0.008240</td>\n",
              "    </tr>\n",
              "    <tr>\n",
              "      <th>8</th>\n",
              "      <td>MarketSegment_Corporate</td>\n",
              "      <td>0.008039</td>\n",
              "    </tr>\n",
              "    <tr>\n",
              "      <th>9</th>\n",
              "      <td>MealPlan_Meal Plan 2</td>\n",
              "      <td>0.007970</td>\n",
              "    </tr>\n",
              "    <tr>\n",
              "      <th>10</th>\n",
              "      <td>NumPrevCancellations</td>\n",
              "      <td>0.006534</td>\n",
              "    </tr>\n",
              "    <tr>\n",
              "      <th>11</th>\n",
              "      <td>NumChildren</td>\n",
              "      <td>0.005395</td>\n",
              "    </tr>\n",
              "    <tr>\n",
              "      <th>12</th>\n",
              "      <td>MealPlan_Meal Plan 1</td>\n",
              "      <td>0.005248</td>\n",
              "    </tr>\n",
              "    <tr>\n",
              "      <th>13</th>\n",
              "      <td>MarketSegment_Complementary</td>\n",
              "      <td>0.005116</td>\n",
              "    </tr>\n",
              "    <tr>\n",
              "      <th>14</th>\n",
              "      <td>NumWeekendNights</td>\n",
              "      <td>0.004551</td>\n",
              "    </tr>\n",
              "    <tr>\n",
              "      <th>15</th>\n",
              "      <td>RoomType_Room_Type 1</td>\n",
              "      <td>0.004505</td>\n",
              "    </tr>\n",
              "    <tr>\n",
              "      <th>16</th>\n",
              "      <td>MarketSegment_Online</td>\n",
              "      <td>0.004379</td>\n",
              "    </tr>\n",
              "    <tr>\n",
              "      <th>17</th>\n",
              "      <td>MealPlan_Not Selected</td>\n",
              "      <td>0.004038</td>\n",
              "    </tr>\n",
              "    <tr>\n",
              "      <th>18</th>\n",
              "      <td>MarketSegment_Offline</td>\n",
              "      <td>0.003459</td>\n",
              "    </tr>\n",
              "    <tr>\n",
              "      <th>19</th>\n",
              "      <td>RoomType_Room_Type 6</td>\n",
              "      <td>0.003438</td>\n",
              "    </tr>\n",
              "    <tr>\n",
              "      <th>20</th>\n",
              "      <td>NumPreviousNonCancelled</td>\n",
              "      <td>0.001647</td>\n",
              "    </tr>\n",
              "    <tr>\n",
              "      <th>21</th>\n",
              "      <td>MealPlan_Meal Plan 3</td>\n",
              "      <td>0.001153</td>\n",
              "    </tr>\n",
              "    <tr>\n",
              "      <th>22</th>\n",
              "      <td>day</td>\n",
              "      <td>0.000000</td>\n",
              "    </tr>\n",
              "    <tr>\n",
              "      <th>23</th>\n",
              "      <td>MarketSegment_Aviation</td>\n",
              "      <td>0.000000</td>\n",
              "    </tr>\n",
              "    <tr>\n",
              "      <th>24</th>\n",
              "      <td>RoomType_Room_Type 7</td>\n",
              "      <td>0.000000</td>\n",
              "    </tr>\n",
              "    <tr>\n",
              "      <th>25</th>\n",
              "      <td>RoomType_Room_Type 5</td>\n",
              "      <td>0.000000</td>\n",
              "    </tr>\n",
              "    <tr>\n",
              "      <th>26</th>\n",
              "      <td>RoomType_Room_Type 4</td>\n",
              "      <td>0.000000</td>\n",
              "    </tr>\n",
              "    <tr>\n",
              "      <th>27</th>\n",
              "      <td>RoomType_Room_Type 3</td>\n",
              "      <td>0.000000</td>\n",
              "    </tr>\n",
              "    <tr>\n",
              "      <th>28</th>\n",
              "      <td>RoomType_Room_Type 2</td>\n",
              "      <td>0.000000</td>\n",
              "    </tr>\n",
              "    <tr>\n",
              "      <th>29</th>\n",
              "      <td>NumAdults</td>\n",
              "      <td>0.000000</td>\n",
              "    </tr>\n",
              "  </tbody>\n",
              "</table>\n",
              "</div>\n",
              "      <button class=\"colab-df-convert\" onclick=\"convertToInteractive('df-aeab9266-5864-4281-809e-13031b129a96')\"\n",
              "              title=\"Convert this dataframe to an interactive table.\"\n",
              "              style=\"display:none;\">\n",
              "        \n",
              "  <svg xmlns=\"http://www.w3.org/2000/svg\" height=\"24px\"viewBox=\"0 0 24 24\"\n",
              "       width=\"24px\">\n",
              "    <path d=\"M0 0h24v24H0V0z\" fill=\"none\"/>\n",
              "    <path d=\"M18.56 5.44l.94 2.06.94-2.06 2.06-.94-2.06-.94-.94-2.06-.94 2.06-2.06.94zm-11 1L8.5 8.5l.94-2.06 2.06-.94-2.06-.94L8.5 2.5l-.94 2.06-2.06.94zm10 10l.94 2.06.94-2.06 2.06-.94-2.06-.94-.94-2.06-.94 2.06-2.06.94z\"/><path d=\"M17.41 7.96l-1.37-1.37c-.4-.4-.92-.59-1.43-.59-.52 0-1.04.2-1.43.59L10.3 9.45l-7.72 7.72c-.78.78-.78 2.05 0 2.83L4 21.41c.39.39.9.59 1.41.59.51 0 1.02-.2 1.41-.59l7.78-7.78 2.81-2.81c.8-.78.8-2.07 0-2.86zM5.41 20L4 18.59l7.72-7.72 1.47 1.35L5.41 20z\"/>\n",
              "  </svg>\n",
              "      </button>\n",
              "      \n",
              "  <style>\n",
              "    .colab-df-container {\n",
              "      display:flex;\n",
              "      flex-wrap:wrap;\n",
              "      gap: 12px;\n",
              "    }\n",
              "\n",
              "    .colab-df-convert {\n",
              "      background-color: #E8F0FE;\n",
              "      border: none;\n",
              "      border-radius: 50%;\n",
              "      cursor: pointer;\n",
              "      display: none;\n",
              "      fill: #1967D2;\n",
              "      height: 32px;\n",
              "      padding: 0 0 0 0;\n",
              "      width: 32px;\n",
              "    }\n",
              "\n",
              "    .colab-df-convert:hover {\n",
              "      background-color: #E2EBFA;\n",
              "      box-shadow: 0px 1px 2px rgba(60, 64, 67, 0.3), 0px 1px 3px 1px rgba(60, 64, 67, 0.15);\n",
              "      fill: #174EA6;\n",
              "    }\n",
              "\n",
              "    [theme=dark] .colab-df-convert {\n",
              "      background-color: #3B4455;\n",
              "      fill: #D2E3FC;\n",
              "    }\n",
              "\n",
              "    [theme=dark] .colab-df-convert:hover {\n",
              "      background-color: #434B5C;\n",
              "      box-shadow: 0px 1px 3px 1px rgba(0, 0, 0, 0.15);\n",
              "      filter: drop-shadow(0px 1px 2px rgba(0, 0, 0, 0.3));\n",
              "      fill: #FFFFFF;\n",
              "    }\n",
              "  </style>\n",
              "\n",
              "      <script>\n",
              "        const buttonEl =\n",
              "          document.querySelector('#df-aeab9266-5864-4281-809e-13031b129a96 button.colab-df-convert');\n",
              "        buttonEl.style.display =\n",
              "          google.colab.kernel.accessAllowed ? 'block' : 'none';\n",
              "\n",
              "        async function convertToInteractive(key) {\n",
              "          const element = document.querySelector('#df-aeab9266-5864-4281-809e-13031b129a96');\n",
              "          const dataTable =\n",
              "            await google.colab.kernel.invokeFunction('convertToInteractive',\n",
              "                                                     [key], {});\n",
              "          if (!dataTable) return;\n",
              "\n",
              "          const docLinkHtml = 'Like what you see? Visit the ' +\n",
              "            '<a target=\"_blank\" href=https://colab.research.google.com/notebooks/data_table.ipynb>data table notebook</a>'\n",
              "            + ' to learn more about interactive tables.';\n",
              "          element.innerHTML = '';\n",
              "          dataTable['output_type'] = 'display_data';\n",
              "          await google.colab.output.renderOutput(dataTable, element);\n",
              "          const docLink = document.createElement('div');\n",
              "          docLink.innerHTML = docLinkHtml;\n",
              "          element.appendChild(docLink);\n",
              "        }\n",
              "      </script>\n",
              "    </div>\n",
              "  </div>\n",
              "  "
            ]
          },
          "metadata": {}
        },
        {
          "output_type": "stream",
          "name": "stdout",
          "text": [
            "The top 10 features using both scoring functions are:\n",
            " ['LeadTime', 'AvgRoomPrice', 'SpecialRequests', 'month', 'Parking', 'year', 'RepeatedGuest', 'NumWeekNights', 'MarketSegment_Corporate', 'MealPlan_Meal Plan 2', 'NumPrevCancellations', 'NumChildren', 'MealPlan_Meal Plan 1', 'MarketSegment_Complementary', 'NumWeekendNights', 'RoomType_Room_Type 1', 'MarketSegment_Online', 'MealPlan_Not Selected']\n"
          ]
        }
      ]
    },
    {
      "cell_type": "code",
      "source": [
        "# Modify X to only include top_k_features\n",
        "X_best = X.loc[:, selected_features]\n",
        "\n",
        "# Split the data again using train_test_split with the modified X\n",
        "X_train_best, X_val_best, Y_train_best, Y_val_best = train_test_split(X_best, Y, test_size=0.30, random_state=42)"
      ],
      "metadata": {
        "id": "ff3hmqfJfHAe"
      },
      "execution_count": null,
      "outputs": []
    },
    {
      "cell_type": "markdown",
      "source": [
        "Using XGBoost"
      ],
      "metadata": {
        "id": "kn_0y1bCO0CF"
      }
    },
    {
      "cell_type": "code",
      "source": [
        "#Untuned XGB model with best 10 features\n",
        "xgb_untuned = xgb.XGBClassifier(seed=42)\n",
        "xgb_untuned.fit(X_train_best, Y_train_best)\n",
        "xgb_untuned_pred = xgb_untuned.predict(X_val_best)\n",
        "\n",
        "validation_accuracy = accuracy_score(Y_val_best, xgb_untuned_pred)\n",
        "training_accuracy = accuracy_score(Y_train_best, xgb_untuned.predict(X_train_best))\n",
        "\n",
        "print(\"XGBoost Untuned Training Accuracy score with top 18 features score::\", training_accuracy)\n",
        "print(\"XGBoost Untuned Validation Accuracy score with top 18 features score:\", validation_accuracy)\n",
        "\n",
        "#XGB model with all features\n",
        "xgb_default = xgb.XGBClassifier(seed=42)\n",
        "xgb_default.fit(X_train, Y_train)\n",
        "xgb_default_pred = xgb_default.predict(X_val)\n",
        "\n",
        "validation_accuracy = accuracy_score(Y_val, xgb_default_pred)\n",
        "training_accuracy = accuracy_score(Y_train, xgb_default.predict(X_train))\n",
        "\n",
        "print(\"XGBoost Untuned Training Accuracy with all features:\", training_accuracy)\n",
        "print(\"XGBoost Untuned Validation Accuracy with all features:\", validation_accuracy)\n"
      ],
      "metadata": {
        "id": "2PlGBAINOlUR"
      },
      "execution_count": null,
      "outputs": []
    },
    {
      "cell_type": "code",
      "source": [
        "#Tuned XGB model\n",
        "xgb_model = xgb.XGBClassifier(seed=42)\n"
      ],
      "metadata": {
        "id": "41PAvTDKdvrS"
      },
      "execution_count": null,
      "outputs": []
    },
    {
      "cell_type": "code",
      "source": [
        "params={\n",
        " \"learning_rate\"    : [0.05, 0.10, 0.15, 0.20, 0.25, 0.30],\n",
        " \"max_depth\"        : [1, 3, 4, 5, 6, 7],\n",
        " \"n_estimators\"     : [int(x) for x in np.linspace(start=100, stop=2000, num=10)],\n",
        " \"min_child_weight\" : [int(x) for x in np.arange(3, 15, 1)],\n",
        " \"gamma\"            : [ 0.0, 0.1, 0.2 , 0.3, 0.4, 0.5, 0.6, 0.7, 0.8, 0.9, 1],\n",
        " \"subsample\"        : [0.1, 0.2, 0.3, 0.4, 0.5, 0.6, 0.7, 0.8, 0.9, 1],\n",
        " \"colsample_bytree\" : [0.5, 0.6, 0.7, 0.8, 0.9, 1],\n",
        " \"colsample_bylevel\": [0.5, 0.6, 0.7, 0.8, 0.9, 1],  \n",
        " \n",
        "}\n",
        "\n",
        "# Create an instance of GridSearchCV with the hyperparameter grid and XGBoost classifier\n",
        "random_search = RandomizedSearchCV(estimator=xgb_model, \n",
        "                                   param_distributions=params, \n",
        "                                   n_iter=12, \n",
        "                                   cv=5, \n",
        "                                   n_jobs=-1, \n",
        "                                   verbose =3,\n",
        "                                   random_state = 42\n",
        "                )\n"
      ],
      "metadata": {
        "id": "FHJwoF-Qd6FT"
      },
      "execution_count": null,
      "outputs": []
    },
    {
      "cell_type": "code",
      "source": [
        "# Fit RandomizedSearchCV on the training data and Calculate tuning time\n",
        "start_time = time.time()\n",
        "random_search.fit(X_train_best, Y_train_best)\n",
        "execution_time = time.time() - start_time\n",
        "\n",
        "# Get the best hyperparameters and model\n",
        "best_params = random_search.best_params_\n",
        "best_model = random_search.best_estimator_\n",
        "\n",
        "\n"
      ],
      "metadata": {
        "id": "Rssw9q90ewvR"
      },
      "execution_count": null,
      "outputs": []
    },
    {
      "cell_type": "code",
      "source": [
        "# Evaluate the best model on the validation data\n",
        "Y_pred = best_model.predict(X_val_best)\n",
        "validation_accuracy = accuracy_score(Y_val_best, Y_pred)\n",
        "training_accuracy = accuracy_score(Y_train_best, best_model.predict(X_train_best))\n",
        "\n",
        "Execution_min = execution_time/60\n",
        "\n",
        "# Print the best hyperparameters accuracy score, amd training time\n",
        "print(f\"Training time: {Execution_min} minutes\")\n",
        "print(\"Best hyperparameters:\", best_params)\n",
        "print(\"Training Accuracy score:\", training_accuracy)\n",
        "print(\"Validation Accuracy score:\", validation_accuracy)\n",
        "\n",
        "print(classification_report(Y_val_best, Y_pred))"
      ],
      "metadata": {
        "id": "3AtXy5o9hbc_"
      },
      "execution_count": null,
      "outputs": []
    },
    {
      "cell_type": "code",
      "source": [
        "# Logistic model best features with tuning \n",
        "Logreg1 = LogisticRegression(max_iter=10000, random_state=seed, n_jobs=4)\n",
        "\n",
        "# define the hyperparameters to be tuned using RandomizedSearchCV\n",
        "param_distributions = {\n",
        "    'penalty': ['l1', 'l2', 'elasticnet'],\n",
        "    'C': np.linspace(0.1,0.01,1),\n",
        "    'solver': ['lbfgs', 'liblinear', 'newton-cg', 'newton-cholesky', 'sag', 'saga'],\n",
        "    'l1_ratio': [0.1,0.2,0.3,0.4,0.5,0.6,0.7,0.8,0.9,1]\n",
        "}\n",
        "\n",
        "# perform the random search using 5-fold cross-validation\n",
        "random_search = RandomizedSearchCV(estimator=Logreg1, param_distributions=param_distributions, n_iter=12, cv=5)\n",
        "random_search.fit(X_train_best, Y_train_best)\n",
        "\n",
        "# print the best parameters and score\n",
        "print(\"Best parameters: \", random_search.best_params_)\n",
        "print(\"Best score: \", random_search.best_score_)"
      ],
      "metadata": {
        "id": "QpfWQfU6t2Ov"
      },
      "execution_count": null,
      "outputs": []
    },
    {
      "cell_type": "code",
      "source": [
        "# Training a Logistic Regression model based on the best parameters determined by RandomSearchCV\n",
        "Logreg1 = LogisticRegression(max_iter=10000, random_state=seed, n_jobs=4, solver='newton-cg', l1_ratio=0.2, C=0.1)\n",
        "\n",
        "Logreg1.fit(X_train_best, Y_train_best)\n"
      ],
      "metadata": {
        "id": "PqhjPZW8CqQg"
      },
      "execution_count": null,
      "outputs": []
    },
    {
      "cell_type": "code",
      "source": [
        "from sklearn.metrics import mean_squared_error\n",
        "\n",
        "print(\"The accuracy of the Logistic Regression Model is: \" + str(round(1-mean_squared_error(Y_train_best, Logreg1.predict(X_train_best)), 3)))"
      ],
      "metadata": {
        "id": "x4xZ0uPBCsNF"
      },
      "execution_count": null,
      "outputs": []
    },
    {
      "cell_type": "code",
      "source": [
        "#SVM model best features, no tuning\n",
        "svm_untunedmodel = svm.SVC(kernel = 'rbf', gamma = 0.1, random_state=42)\n",
        "\n",
        "# Fit model to training data\n",
        "svm_untunedmodel.fit(X_train_anova, Y_train_anova)\n",
        "\n",
        "# Make predictions on test data\n",
        "y_pred = svm_untunedmodel.predict(X_val_anova)\n",
        "\n",
        "# Calculate accuracy of predictions\n",
        "training_accuracy = accuracy_score(Y_train_anova, svm_untunedmodel.predict(X_train_anova))\n",
        "accuracy = accuracy_score(Y_val_anova, y_pred)\n",
        "print('Validation Accuracy:', accuracy)\n",
        "print(\"Training Accuracy:\", training_accuracy)"
      ],
      "metadata": {
        "id": "YQyll9dzm81z"
      },
      "execution_count": null,
      "outputs": []
    },
    {
      "cell_type": "markdown",
      "source": [
        "Using KNN"
      ],
      "metadata": {
        "id": "pDlllK5QDPUY"
      }
    },
    {
      "cell_type": "code",
      "source": [
        "k = 5\n",
        "\n",
        "# Train the model\n",
        "knn = KNeighborsClassifier(n_neighbors=k)\n",
        "knn.fit(X_train, Y_train)\n",
        "\n",
        "# Make predictions on the test set\n",
        "y_pred = knn.predict(X_val)\n",
        "\n",
        "# Evaluate the model\n",
        "accuracy = accuracy_score(Y_val, y_pred)\n",
        "print(\"Accuracy:\", accuracy)\n",
        "print(classification_report(Y_val, y_pred))"
      ],
      "metadata": {
        "id": "sNUliImODOgf"
      },
      "execution_count": null,
      "outputs": []
    },
    {
      "cell_type": "code",
      "source": [
        "# On the best selected features\n",
        "knn.fit(X_train_best, Y_train_best)\n",
        "\n",
        "# Make predictions on the test set\n",
        "y_pred = knn.predict(X_val_best)\n",
        "\n",
        "# Evaluate the model\n",
        "accuracy = accuracy_score(Y_val_best, y_pred)\n",
        "print(\"Accuracy:\", accuracy)\n",
        "print(classification_report(Y_val_best, y_pred))"
      ],
      "metadata": {
        "id": "eqg_IkMfDk6v"
      },
      "execution_count": null,
      "outputs": []
    },
    {
      "cell_type": "code",
      "source": [
        "# Create a KNN classifier object\n",
        "knn = KNeighborsClassifier()\n",
        "\n",
        "# Define the parameter grid to search\n",
        "param_dist = {'n_neighbors': randint(1, 30),\n",
        "              'p': [1, 2],\n",
        "              'weights': ['uniform', 'distance']}\n",
        "\n",
        "\n",
        "\n",
        "# Create a randomized search object\n",
        "knn_random = RandomizedSearchCV(estimator = knn, \n",
        "                               param_distributions = param_dist, \n",
        "                               cv = 5, \n",
        "                               n_iter = 10, \n",
        "                               random_state=42,\n",
        "                               n_jobs = -1)"
      ],
      "metadata": {
        "id": "yDQkwmDdDsi0"
      },
      "execution_count": null,
      "outputs": []
    },
    {
      "cell_type": "code",
      "source": [
        "# Fit the randomized search object to the data\n",
        "knn_random.fit(X_train, Y_train)\n",
        "\n",
        "# Print the best parameters and the corresponding score\n",
        "print(\"Best parameters:\", knn_random.best_params_)\n",
        "#print(\"Best score:\", knn_random.best_score_)\n",
        "# Evaluate the model\n",
        "knn_random_pred = knn_random.predict(X_val)\n",
        "training_accuracy = accuracy_score(Y_train, knn_random.predict(X_train))\n",
        "accuracy = accuracy_score(Y_val, knn_random_pred)\n",
        "print(\"Validation Accuracy:\", accuracy)\n",
        "print('Training Accuracy:', training_accuracy)\n"
      ],
      "metadata": {
        "id": "3Ad2HO6cDuuC"
      },
      "execution_count": null,
      "outputs": []
    },
    {
      "cell_type": "code",
      "source": [
        "# On best features\n",
        "# Fit the randomized search object to the data\n",
        "knn_random.fit(X_train_best, Y_train_best)\n",
        "\n",
        "# Print the best parameters and the corresponding score\n",
        "print(\"Best parameters:\", knn_random.best_params_)\n",
        "#print(\"Best score:\", knn_random.best_score_)\n",
        "\n",
        "knn_random_pred = knn_random.predict(X_val_best)\n",
        "# Evaluate the model\n",
        "training_accuracy = accuracy_score(Y_train_best, knn_random.predict(X_train_best))\n",
        "accuracy = accuracy_score(Y_val_best, knn_random_pred)\n",
        "print(\"Validation Accuracy:\", accuracy)\n",
        "print('Training Accuracy:', training_accuracy)\n",
        "print(classification_report(Y_val_best, knn_random_pred))\n"
      ],
      "metadata": {
        "id": "ugyfQzAkDvUA"
      },
      "execution_count": null,
      "outputs": []
    },
    {
      "cell_type": "markdown",
      "source": [
        "Using the MLP NN"
      ],
      "metadata": {
        "id": "7e5IbUTWfc_E"
      }
    },
    {
      "cell_type": "code",
      "source": [
        "modelsd = Sequential()\n",
        "\n",
        "modelsd.add(Dense(units=18, activation=\"ReLU\", input_shape = (18,)))\n",
        "\n",
        "modelsd.add(Dense(units=200, activation=\"ReLU\"))\n",
        "\n",
        "modelsd.add(Dense(units=1000, activation=\"ReLU\"))\n",
        "\n",
        "modelsd.add(Dense(units=1000, activation=\"ReLU\"))\n",
        "\n",
        "modelsd.add(Dense(units=810, activation=\"ReLU\"))\n",
        "modelsd.add(Flatten())\n",
        "modelsd.add(Dense(units=2, activation=\"softmax\"))\n",
        "\n",
        "\n",
        "modelsd.compile(\n",
        "    optimizer = \"adam\",\n",
        "    loss=tf.keras.losses.SparseCategoricalCrossentropy(from_logits=True),\n",
        "    metrics=[\"accuracy\"]\n",
        ")"
      ],
      "metadata": {
        "id": "EKLz81T31hIj"
      },
      "execution_count": null,
      "outputs": []
    },
    {
      "cell_type": "code",
      "source": [
        "modelsd.fit(X_train_best, Y_train_best, validation_data=(X_val_best,Y_val_best), batch_size = 160, epochs=250, shuffle=True)\n"
      ],
      "metadata": {
        "id": "ArTIXeFOfglm"
      },
      "execution_count": null,
      "outputs": []
    },
    {
      "cell_type": "code",
      "source": [
        "modelsd_pred = modelsd.predict(X_val_best)\n",
        "modelsd.evaluate(X_val_best, Y_val_best)\n"
      ],
      "metadata": {
        "id": "a1i-WQ31ftB5"
      },
      "execution_count": null,
      "outputs": []
    },
    {
      "cell_type": "markdown",
      "source": [
        "MODEL PIPELINE OF MLP-XGBOOST"
      ],
      "metadata": {
        "id": "sbtZ3ZP2mjHo"
      }
    },
    {
      "cell_type": "code",
      "source": [
        "# Using the tuned MLP with best hyperparameters to extract features\n",
        "mlp = Sequential()\n",
        "\n",
        "mlp.add(Dense(units=18, activation=\"ReLU\", input_shape = (18,)))\n",
        "#from tensorflow.keras.layers import Dropout\n",
        "\n",
        "\n",
        "mlp.add(Dense(units=200, activation=\"ReLU\"))\n",
        "\n",
        "mlp.add(Dense(units=1000, activation=\"ReLU\"))\n",
        "\n",
        "mlp.add(Dense(units=1000, activation=\"ReLU\"))\n",
        "\n",
        "mlp.add(Dense(units=810, activation=\"ReLU\"))\n",
        "mlp.add(Flatten())\n",
        "mlp.add(Dense(units=2, activation=\"softmax\"))\n",
        "\n",
        "\n",
        "mlp.compile(\n",
        "    optimizer = \"adam\",\n",
        "    loss=tf.keras.losses.SparseCategoricalCrossentropy(from_logits=True),\n",
        "    metrics=[\"accuracy\"]\n",
        ")\n",
        "\n",
        "\n",
        "#Compile and fit the model to training data\n",
        "mlp.fit(X_train_best, Y_train_best, batch_size = 160, epochs=250, shuffle=True)\n",
        "\n",
        "# Extract features from the labeled data using the MLP\n",
        "X_train_features = mlp.predict(X_train_best)\n",
        "\n",
        "# Train the XGBoost model with best hyperparametrs on the learned features\n",
        "final_xgb_model = xgb.XGBClassifier(subsample=1, n_estimators=1366, min_child_weight=6, max_depth=5, learning_rate=0.15, gamma=0.0, colsample_bytree=0.6, colsample_bylevel= 0.6, seed=42)\n",
        "final_xgb_model.fit(X_train_features, Y_train_best)"
      ],
      "metadata": {
        "id": "6nwp-kndl6GQ"
      },
      "execution_count": null,
      "outputs": []
    },
    {
      "cell_type": "code",
      "source": [
        "# threshold = 0.5\n",
        "\n",
        "# binary_preds = np.where(modelsd_pred[:, 1] >= threshold, 1, 0)\n",
        "# sd = Y_val_best.values\n",
        "\n",
        "# print(classification_report(Y_val, y_pred))"
      ],
      "metadata": {
        "id": "u4wgJsUIAq6e"
      },
      "execution_count": null,
      "outputs": []
    },
    {
      "cell_type": "code",
      "source": [
        "# Extract features from the labeled data using the MLP\n",
        "X_val_features = mlp.predict(X_val_best)\n",
        "\n",
        "Combined_pred = final_xgb_model.predict(X_val_features)\n",
        "Train_accuracy = accuracy_score(Y_train_best, final_xgb_model.predict(X_train_features))\n",
        "Valid_accuracy = accuracy_score(Y_val_best, Combined_pred)\n",
        "print(\"MLP-XGB Validation Accuracy:\", Valid_accuracy)\n",
        "print('MLP-XGB Training Accuracy:', Train_accuracy)\n",
        "print(classification_report(Y_val_best, Combined_pred))"
      ],
      "metadata": {
        "id": "LibOIkkbmedd"
      },
      "execution_count": null,
      "outputs": []
    },
    {
      "cell_type": "markdown",
      "source": [
        "Best Model: Tuned XGBoost Model by itself\n",
        "The best performing model is the tuned XGBoost, we wil be using this to make predictions on the test_data and creating a group csv file"
      ],
      "metadata": {
        "id": "q5ZEOAj3t23r"
      }
    },
    {
      "cell_type": "code",
      "source": [
        "# Load the test data\n",
        "New_data = pd.read_csv(\"/content/drive/MyDrive/Hackathon/Data/test_data.csv\")\n",
        "New_copy = New_data.copy()\n",
        "\n"
      ],
      "metadata": {
        "id": "_MTXsbvSwTvr"
      },
      "execution_count": null,
      "outputs": []
    },
    {
      "cell_type": "code",
      "source": [
        "#Preprocess Data\n",
        "# One hot encode categorical data\n",
        "New_copy = pd.get_dummies(New_copy, columns=['RoomType', 'MealPlan', 'MarketSegment'])\n",
        "New_copy = New_copy.rename(columns={'ArrivalYear': 'year', 'ArrivalMonth': 'month', 'ArrivalDate': 'day'})"
      ],
      "metadata": {
        "id": "xq-HzB4Ow3Px"
      },
      "execution_count": null,
      "outputs": []
    },
    {
      "cell_type": "code",
      "source": [
        "# Extract best 18 X features for predictions\n",
        "Features = New_copy.drop(['BookingID'], axis=1)\n",
        "Features = Features.loc[:, selected_features]"
      ],
      "metadata": {
        "id": "bthf5LOGxyGf"
      },
      "execution_count": null,
      "outputs": []
    },
    {
      "cell_type": "code",
      "source": [
        "New_copy.head()"
      ],
      "metadata": {
        "id": "p-JqPNaXyGf7"
      },
      "execution_count": null,
      "outputs": []
    },
    {
      "cell_type": "code",
      "source": [
        "# Function to convert binary to string values for our predicted column\n",
        "def bintostr(x):\n",
        "    if x == 1:\n",
        "      x = 'Canceled'\n",
        "    elif x == 0:\n",
        "      x = 'Not_Canceled'\n",
        "    return x"
      ],
      "metadata": {
        "id": "u3XIAyUnydVK"
      },
      "execution_count": null,
      "outputs": []
    },
    {
      "cell_type": "code",
      "source": [
        "# Predict the cancelations\n",
        "predicted_values = best_model.predict(Features)\n",
        "\n",
        "# Put them in the original dataframe\n",
        "New_data['BookingStatus'] = predicted_values\n",
        "New_data['BookingStatus'] = New_data['BookingStatus'].map(bintostr)"
      ],
      "metadata": {
        "id": "5i_-6zSbxgBN"
      },
      "execution_count": null,
      "outputs": []
    },
    {
      "cell_type": "code",
      "source": [
        "# Save the modified DataFrame back to a CSV file\n",
        "New_data.to_csv('group_15.CSV', index=False)"
      ],
      "metadata": {
        "id": "w9GULKyXzYFH"
      },
      "execution_count": null,
      "outputs": []
    }
  ]
}